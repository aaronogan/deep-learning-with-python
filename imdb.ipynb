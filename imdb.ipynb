{
 "cells": [
  {
   "cell_type": "markdown",
   "metadata": {},
   "source": [
    "# imdb"
   ]
  },
  {
   "cell_type": "markdown",
   "metadata": {},
   "source": [
    "Import IMDB review data from Keras data sets.  Limit to the `10000` most frequently used words.\n",
    "\n",
    "Data is a list of word indices (see example below)\n",
    "\n",
    "Labels:\n",
    "- `0` for negative\n",
    "- `1` for positive"
   ]
  },
  {
   "cell_type": "code",
   "execution_count": 1,
   "metadata": {},
   "outputs": [
    {
     "name": "stderr",
     "output_type": "stream",
     "text": [
      "Using TensorFlow backend.\n"
     ]
    }
   ],
   "source": [
    "from keras.datasets import imdb\n",
    "\n",
    "(train_data, train_labels), (test_data, test_labels) = imdb.load_data(num_words=10000)"
   ]
  },
  {
   "cell_type": "markdown",
   "metadata": {},
   "source": [
    "### Decoding a review\n",
    "\n",
    "Simple example of decoding a review to more clearly illustrate the data model"
   ]
  },
  {
   "cell_type": "code",
   "execution_count": 2,
   "metadata": {},
   "outputs": [
    {
     "name": "stdout",
     "output_type": "stream",
     "text": [
      "? this film was just brilliant casting location scenery story direction everyone's really suited the part they played and you could just imagine being there robert ? is an amazing actor and now the same being director ? father came from the same scottish island as myself so i loved the fact there was a real connection with this film the witty remarks throughout the film were great it was just brilliant so much that i bought the film as soon as it was released for ? and would recommend it to everyone to watch and the fly fishing was amazing really cried at the end it was so sad and you know what they say if you cry at a film it must have been good and this definitely was also ? to the two little boy's that played the ? of norman and paul they were just brilliant children are often left out of the ? list i think because the stars that play them all grown up are such a big profile for the whole film but these children are amazing and should be praised for what they have done don't you think the whole story was so lovely because it was true and was someone's life after all that was shared with us all\n"
     ]
    }
   ],
   "source": [
    "word_index = imdb.get_word_index()\n",
    "reverse_word_index = dict(\n",
    "    [(value, key) for (key, value) in word_index.items()]) # map integer indices to words\n",
    "word_index_offset = 3 # offset of 3 due to reserved indices for padding, start of sequence, and unknown\n",
    "decoded_review = ' '.join([reverse_word_index.get(i - word_index_offset, '?') for i in train_data[0]])\n",
    "\n",
    "print(decoded_review)"
   ]
  },
  {
   "cell_type": "markdown",
   "metadata": {},
   "source": [
    "Turning the lists into 10k-rank tensors using numpy for clarity. Values for provided indices will have values of `1`, otherwise, they will be `0`."
   ]
  },
  {
   "cell_type": "code",
   "execution_count": 3,
   "metadata": {},
   "outputs": [],
   "source": [
    "import numpy as np\n",
    "\n",
    "def vectorize_sequences(sequences, dimension=10000):\n",
    "    results = np.zeros((len(sequences), dimension))\n",
    "    for i, sequence in enumerate(sequences):\n",
    "        results[i, sequence] = 1.\n",
    "    return results\n",
    "\n",
    "x_train = vectorize_sequences(train_data)\n",
    "x_test = vectorize_sequences(test_data)\n",
    "\n",
    "y_train = np.asarray(train_labels).astype('float32')\n",
    "y_test = np.asarray(test_labels).astype('float32')"
   ]
  },
  {
   "cell_type": "markdown",
   "metadata": {},
   "source": [
    "Build model\n",
    "`16` is the number of hidden units of the layer\n",
    "Hidden units are a dimension in the representation of space in the layer\n",
    "\n",
    "`relu` activation is equivalent to:\n",
    "```\n",
    "output = relu(dot(W, input) + b)\n",
    "```\n",
    "\n",
    "In this case, having `16` hidden units will project the input data 16-dimensional representation space. The more hidden units, the more freedom of interpretation the model is allowed (but this comes at the cost of computational time and complexity).\n",
    "\n",
    "The output layer uses `sigmoid` activation to output a score between zero and one."
   ]
  },
  {
   "cell_type": "code",
   "execution_count": 4,
   "metadata": {},
   "outputs": [],
   "source": [
    "from keras import layers\n",
    "from keras import models\n",
    "\n",
    "model = models.Sequential()\n",
    "model.add(layers.Dense(16, activation='relu', input_shape=(10000,)))\n",
    "model.add(layers.Dense(16, activation='relu'))\n",
    "model.add(layers.Dense(1, activation='sigmoid'))"
   ]
  },
  {
   "cell_type": "markdown",
   "metadata": {},
   "source": [
    "### Activation functions\n",
    "Without the use of `relu` (also called `non-linearity`) here, output would effectively be\n",
    "```\n",
    "output = dot(W, input) + b\n",
    "```\n",
    "Meaning that the layer could only learn linear (\"affine\") transformations.  Such a hypothesis space is too restricted and adding layers wouldn't extend it.  `relu` is a popular non-linear activation function that affords a richer hypothesis space."
   ]
  },
  {
   "cell_type": "markdown",
   "metadata": {},
   "source": [
    "### Loss functions\n",
    "\n",
    "Since the output is a binary classification (`sigmoid` activation), a good choice for the loss function is `binary_crossentropy`. Crossentropy is from Information Theory and quantifies distances between probability distributions."
   ]
  },
  {
   "cell_type": "code",
   "execution_count": 5,
   "metadata": {},
   "outputs": [],
   "source": [
    "model.compile(optimizer='rmsprop', loss='binary_crossentropy', metrics=['accuracy'])"
   ]
  },
  {
   "cell_type": "code",
   "execution_count": 6,
   "metadata": {},
   "outputs": [],
   "source": [
    "x_val = x_train[:10000]\n",
    "partial_x_train = x_train[10000:]\n",
    "\n",
    "y_val = y_train[:10000]\n",
    "partial_y_train = y_train[10000:]"
   ]
  },
  {
   "cell_type": "markdown",
   "metadata": {},
   "source": [
    "Train the model using mini-batches of size 512. Passing in `validation_data` allows the model to monitor loss and accuracy."
   ]
  },
  {
   "cell_type": "code",
   "execution_count": 7,
   "metadata": {},
   "outputs": [
    {
     "name": "stdout",
     "output_type": "stream",
     "text": [
      "Train on 15000 samples, validate on 10000 samples\n",
      "Epoch 1/20\n",
      "15000/15000 [==============================] - 2s 128us/step - loss: 0.5067 - acc: 0.7843 - val_loss: 0.3787 - val_acc: 0.8698\n",
      "Epoch 2/20\n",
      "15000/15000 [==============================] - 1s 67us/step - loss: 0.3000 - acc: 0.9048 - val_loss: 0.2999 - val_acc: 0.8905\n",
      "Epoch 3/20\n",
      "15000/15000 [==============================] - 1s 49us/step - loss: 0.2174 - acc: 0.9285 - val_loss: 0.3089 - val_acc: 0.8714\n",
      "Epoch 4/20\n",
      "15000/15000 [==============================] - 1s 62us/step - loss: 0.1745 - acc: 0.9434 - val_loss: 0.2836 - val_acc: 0.8839\n",
      "Epoch 5/20\n",
      "15000/15000 [==============================] - 1s 69us/step - loss: 0.1420 - acc: 0.9545 - val_loss: 0.2852 - val_acc: 0.8865\n",
      "Epoch 6/20\n",
      "15000/15000 [==============================] - 1s 62us/step - loss: 0.1148 - acc: 0.9653 - val_loss: 0.3141 - val_acc: 0.8776\n",
      "Epoch 7/20\n",
      "15000/15000 [==============================] - 1s 57us/step - loss: 0.0979 - acc: 0.9709 - val_loss: 0.3129 - val_acc: 0.8846\n",
      "Epoch 8/20\n",
      "15000/15000 [==============================] - 1s 62us/step - loss: 0.0806 - acc: 0.9764 - val_loss: 0.3856 - val_acc: 0.8658\n",
      "Epoch 9/20\n",
      "15000/15000 [==============================] - 1s 50us/step - loss: 0.0661 - acc: 0.9819 - val_loss: 0.3635 - val_acc: 0.8786\n",
      "Epoch 10/20\n",
      "15000/15000 [==============================] - 1s 59us/step - loss: 0.0558 - acc: 0.9851 - val_loss: 0.3846 - val_acc: 0.8790\n",
      "Epoch 11/20\n",
      "15000/15000 [==============================] - 1s 47us/step - loss: 0.0448 - acc: 0.9887 - val_loss: 0.4163 - val_acc: 0.8762\n",
      "Epoch 12/20\n",
      "15000/15000 [==============================] - 1s 59us/step - loss: 0.0385 - acc: 0.9913 - val_loss: 0.4513 - val_acc: 0.8699\n",
      "Epoch 13/20\n",
      "15000/15000 [==============================] - 1s 48us/step - loss: 0.0299 - acc: 0.9927 - val_loss: 0.4715 - val_acc: 0.8728\n",
      "Epoch 14/20\n",
      "15000/15000 [==============================] - 1s 48us/step - loss: 0.0246 - acc: 0.9948 - val_loss: 0.5040 - val_acc: 0.8721\n",
      "Epoch 15/20\n",
      "15000/15000 [==============================] - 1s 80us/step - loss: 0.0174 - acc: 0.9981 - val_loss: 0.5553 - val_acc: 0.8670\n",
      "Epoch 16/20\n",
      "15000/15000 [==============================] - 1s 64us/step - loss: 0.0161 - acc: 0.9971 - val_loss: 0.5765 - val_acc: 0.8700\n",
      "Epoch 17/20\n",
      "15000/15000 [==============================] - 1s 70us/step - loss: 0.0093 - acc: 0.9993 - val_loss: 0.6337 - val_acc: 0.8631\n",
      "Epoch 18/20\n",
      "15000/15000 [==============================] - 1s 85us/step - loss: 0.0105 - acc: 0.9981 - val_loss: 0.6444 - val_acc: 0.8667\n",
      "Epoch 19/20\n",
      "15000/15000 [==============================] - 1s 71us/step - loss: 0.0097 - acc: 0.9985 - val_loss: 0.6767 - val_acc: 0.8668\n",
      "Epoch 20/20\n",
      "15000/15000 [==============================] - 1s 58us/step - loss: 0.0041 - acc: 0.9999 - val_loss: 0.7026 - val_acc: 0.8667\n"
     ]
    }
   ],
   "source": [
    "history = model.fit(partial_x_train, partial_y_train, epochs=20, batch_size=512, validation_data=(x_val, y_val))"
   ]
  },
  {
   "cell_type": "markdown",
   "metadata": {},
   "source": [
    "### Plotting training and validation"
   ]
  },
  {
   "cell_type": "code",
   "execution_count": 10,
   "metadata": {},
   "outputs": [
    {
     "data": {
      "image/png": "[encoded data removed]",
      "text/plain": [
       "<Figure size 432x288 with 1 Axes>"
      ]
     },
     "metadata": {},
     "output_type": "display_data"
    }
   ],
   "source": [
    "import matplotlib.pyplot as plt\n",
    "\n",
    "history_dict = history.history\n",
    "loss_values = history_dict['loss']\n",
    "val_loss_values = history_dict['val_loss']\n",
    "acc = history_dict['acc']\n",
    "\n",
    "epochs = range(1, len(acc) + 1)\n",
    "\n",
    "plt.plot(epochs, loss_values, 'bo', label='Training loss') # `bo` == blue dot\n",
    "plt.plot(epochs, val_loss_values, 'b', label='Validation loss') # `b` == blue line\n",
    "plt.title('Training and validation loss')\n",
    "plt.xlabel('Epochs')\n",
    "plt.ylabel('Loss')\n",
    "plt.legend()\n",
    "\n",
    "plt.show()"
   ]
  }
 ],
 "metadata": {
  "kernelspec": {
   "display_name": "Python 3",
   "language": "python",
   "name": "python3"
  },
  "language_info": {
   "codemirror_mode": {
    "name": "ipython",
    "version": 3
   },
   "file_extension": ".py",
   "mimetype": "text/x-python",
   "name": "python",
   "nbconvert_exporter": "python",
   "pygments_lexer": "ipython3",
   "version": "3.6.6"
  }
 },
 "nbformat": 4,
 "nbformat_minor": 2
}
