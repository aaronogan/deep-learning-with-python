{
 "cells": [
  {
   "cell_type": "markdown",
   "metadata": {},
   "source": [
    "# imdb"
   ]
  },
  {
   "cell_type": "markdown",
   "metadata": {},
   "source": [
    "Import IMDB review data from Keras data sets.  Limit to the `10000` most frequently used words.\n",
    "\n",
    "Data is a list of word indices (see example below)\n",
    "\n",
    "Labels:\n",
    "- `0` for negative\n",
    "- `1` for positive"
   ]
  },
  {
   "cell_type": "code",
   "execution_count": 46,
   "metadata": {},
   "outputs": [],
   "source": [
    "from keras.datasets import imdb\n",
    "\n",
    "(train_data, train_labels), (test_data, test_labels) = imdb.load_data(num_words=10000)"
   ]
  },
  {
   "cell_type": "markdown",
   "metadata": {},
   "source": [
    "### Decoding a review\n",
    "\n",
    "Simple example of decoding a review to more clearly illustrate the data model"
   ]
  },
  {
   "cell_type": "code",
   "execution_count": 47,
   "metadata": {},
   "outputs": [
    {
     "name": "stdout",
     "output_type": "stream",
     "text": [
      "? this film was just brilliant casting location scenery story direction everyone's really suited the part they played and you could just imagine being there robert ? is an amazing actor and now the same being director ? father came from the same scottish island as myself so i loved the fact there was a real connection with this film the witty remarks throughout the film were great it was just brilliant so much that i bought the film as soon as it was released for ? and would recommend it to everyone to watch and the fly fishing was amazing really cried at the end it was so sad and you know what they say if you cry at a film it must have been good and this definitely was also ? to the two little boy's that played the ? of norman and paul they were just brilliant children are often left out of the ? list i think because the stars that play them all grown up are such a big profile for the whole film but these children are amazing and should be praised for what they have done don't you think the whole story was so lovely because it was true and was someone's life after all that was shared with us all\n"
     ]
    }
   ],
   "source": [
    "word_index = imdb.get_word_index()\n",
    "reverse_word_index = dict(\n",
    "    [(value, key) for (key, value) in word_index.items()]) # map integer indices to words\n",
    "word_index_offset = 3 # offset of 3 due to reserved indices for padding, start of sequence, and unknown\n",
    "decoded_review = ' '.join([reverse_word_index.get(i - word_index_offset, '?') for i in train_data[0]])\n",
    "\n",
    "print(decoded_review)"
   ]
  },
  {
   "cell_type": "markdown",
   "metadata": {},
   "source": [
    "Turning the lists into 10k-rank tensors using numpy for clarity. Values for provided indices will have values of `1`, otherwise, they will be `0`."
   ]
  },
  {
   "cell_type": "code",
   "execution_count": 48,
   "metadata": {},
   "outputs": [],
   "source": [
    "import numpy as np\n",
    "\n",
    "def vectorize_sequences(sequences, dimension=10000):\n",
    "    results = np.zeros((len(sequences), dimension))\n",
    "    for i, sequence in enumerate(sequences):\n",
    "        results[i, sequence] = 1.\n",
    "    return results\n",
    "\n",
    "x_train = vectorize_sequences(train_data)\n",
    "x_test = vectorize_sequences(test_data)\n",
    "\n",
    "y_train = np.asarray(train_labels).astype('float32')\n",
    "y_test = np.asarray(test_labels).astype('float32')"
   ]
  },
  {
   "cell_type": "markdown",
   "metadata": {},
   "source": [
    "Build model\n",
    "`16` is the number of hidden units of the layer\n",
    "Hidden units are a dimension in the representation of space in the layer\n",
    "\n",
    "`relu` activation is equivalent to:\n",
    "```\n",
    "output = relu(dot(W, input) + b)\n",
    "```\n",
    "\n",
    "In this case, having `16` hidden units will project the input data 16-dimensional representation space. The more hidden units, the more freedom of interpretation the model is allowed (but this comes at the cost of computational time and complexity).\n",
    "\n",
    "The output layer uses `sigmoid` activation to output a score between zero and one."
   ]
  },
  {
   "cell_type": "code",
   "execution_count": 49,
   "metadata": {},
   "outputs": [],
   "source": [
    "from keras import layers\n",
    "from keras import models\n",
    "\n",
    "model = models.Sequential()\n",
    "model.add(layers.Dense(16, activation='relu', input_shape=(10000,)))\n",
    "model.add(layers.Dense(16, activation='relu'))\n",
    "model.add(layers.Dense(1, activation='sigmoid'))"
   ]
  },
  {
   "cell_type": "markdown",
   "metadata": {},
   "source": [
    "### Activation functions\n",
    "Without the use of `relu` (also called `non-linearity`) here, output would effectively be\n",
    "```\n",
    "output = dot(W, input) + b\n",
    "```\n",
    "Meaning that the layer could only learn linear (\"affine\") transformations.  Such a hypothesis space is too restricted and adding layers wouldn't extend it.  `relu` is a popular non-linear activation function that affords a richer hypothesis space."
   ]
  },
  {
   "cell_type": "markdown",
   "metadata": {},
   "source": [
    "### Loss functions\n",
    "\n",
    "Since the output is a binary classification (`sigmoid` activation), a good choice for the loss function is `binary_crossentropy`. Crossentropy is from Information Theory and quantifies distances between probability distributions."
   ]
  },
  {
   "cell_type": "markdown",
   "metadata": {},
   "source": []
  },
  {
   "cell_type": "code",
   "execution_count": 50,
   "metadata": {},
   "outputs": [],
   "source": [
    "model.compile(optimizer='rmsprop', loss='binary_crossentropy', metrics=['accuracy'])"
   ]
  },
  {
   "cell_type": "code",
   "execution_count": 51,
   "metadata": {},
   "outputs": [],
   "source": [
    "x_val = x_train[:10000]\n",
    "partial_x_train = x_train[10000:]\n",
    "\n",
    "y_val = y_train[:10000]\n",
    "partial_y_train = y_train[10000:]"
   ]
  },
  {
   "cell_type": "markdown",
   "metadata": {},
   "source": [
    "Train the model using mini-batches of size 512. Passing in `validation_data` allows the model to monitor loss and accuracy."
   ]
  },
  {
   "cell_type": "code",
   "execution_count": 52,
   "metadata": {},
   "outputs": [
    {
     "name": "stdout",
     "output_type": "stream",
     "text": [
      "Train on 15000 samples, validate on 10000 samples\n",
      "Epoch 1/20\n",
      "15000/15000 [==============================] - 1s 81us/step - loss: 0.5092 - acc: 0.7812 - val_loss: 0.3823 - val_acc: 0.8679\n",
      "Epoch 2/20\n",
      "15000/15000 [==============================] - 1s 48us/step - loss: 0.3010 - acc: 0.9039 - val_loss: 0.2994 - val_acc: 0.8912\n",
      "Epoch 3/20\n",
      "15000/15000 [==============================] - 1s 54us/step - loss: 0.2162 - acc: 0.9281 - val_loss: 0.3082 - val_acc: 0.8711\n",
      "Epoch 4/20\n",
      "15000/15000 [==============================] - 1s 49us/step - loss: 0.1729 - acc: 0.9437 - val_loss: 0.2833 - val_acc: 0.8844\n",
      "Epoch 5/20\n",
      "15000/15000 [==============================] - 1s 44us/step - loss: 0.1397 - acc: 0.9552 - val_loss: 0.2852 - val_acc: 0.8864\n",
      "Epoch 6/20\n",
      "15000/15000 [==============================] - 1s 42us/step - loss: 0.1120 - acc: 0.9661 - val_loss: 0.3138 - val_acc: 0.8787\n",
      "Epoch 7/20\n",
      "15000/15000 [==============================] - 1s 42us/step - loss: 0.0949 - acc: 0.9718 - val_loss: 0.3163 - val_acc: 0.8839\n",
      "Epoch 8/20\n",
      "15000/15000 [==============================] - 1s 44us/step - loss: 0.0776 - acc: 0.9771 - val_loss: 0.3900 - val_acc: 0.8648\n",
      "Epoch 9/20\n",
      "15000/15000 [==============================] - 1s 46us/step - loss: 0.0633 - acc: 0.9827 - val_loss: 0.3710 - val_acc: 0.8760\n",
      "Epoch 10/20\n",
      "15000/15000 [==============================] - 1s 48us/step - loss: 0.0522 - acc: 0.9862 - val_loss: 0.3897 - val_acc: 0.8784\n",
      "Epoch 11/20\n",
      "15000/15000 [==============================] - 1s 49us/step - loss: 0.0428 - acc: 0.9893 - val_loss: 0.4281 - val_acc: 0.8768\n",
      "Epoch 12/20\n",
      "15000/15000 [==============================] - 1s 51us/step - loss: 0.0330 - acc: 0.9937 - val_loss: 0.4597 - val_acc: 0.8727\n",
      "Epoch 13/20\n",
      "15000/15000 [==============================] - 1s 54us/step - loss: 0.0258 - acc: 0.9943 - val_loss: 0.4832 - val_acc: 0.8742\n",
      "Epoch 14/20\n",
      "15000/15000 [==============================] - 1s 51us/step - loss: 0.0231 - acc: 0.9949 - val_loss: 0.5162 - val_acc: 0.8731\n",
      "Epoch 15/20\n",
      "15000/15000 [==============================] - 1s 52us/step - loss: 0.0199 - acc: 0.9963 - val_loss: 0.5415 - val_acc: 0.8706\n",
      "Epoch 16/20\n",
      "15000/15000 [==============================] - 1s 42us/step - loss: 0.0107 - acc: 0.9994 - val_loss: 0.5857 - val_acc: 0.8668\n",
      "Epoch 17/20\n",
      "15000/15000 [==============================] - 1s 44us/step - loss: 0.0142 - acc: 0.9969 - val_loss: 0.6065 - val_acc: 0.8679\n",
      "Epoch 18/20\n",
      "15000/15000 [==============================] - 1s 46us/step - loss: 0.0061 - acc: 0.9997 - val_loss: 0.6397 - val_acc: 0.8677\n",
      "Epoch 19/20\n",
      "15000/15000 [==============================] - 1s 45us/step - loss: 0.0095 - acc: 0.9981 - val_loss: 0.6662 - val_acc: 0.8658\n",
      "Epoch 20/20\n",
      "15000/15000 [==============================] - 1s 44us/step - loss: 0.0070 - acc: 0.9986 - val_loss: 0.6944 - val_acc: 0.8657\n"
     ]
    }
   ],
   "source": [
    "history = model.fit(partial_x_train, partial_y_train, epochs=20, batch_size=512, validation_data=(x_val, y_val))"
   ]
  },
  {
   "cell_type": "markdown",
   "metadata": {},
   "source": [
    "### Plotting training and validation"
   ]
  },
  {
   "cell_type": "code",
   "execution_count": 53,
   "metadata": {},
   "outputs": [
    {
     "ename": "ModuleNotFoundError",
     "evalue": "No module named 'matplotlib'",
     "output_type": "error",
     "traceback": [
      "\u001b[0;31m---------------------------------------------------------------------------\u001b[0m",
      "\u001b[0;31mModuleNotFoundError\u001b[0m                       Traceback (most recent call last)",
      "\u001b[0;32m<ipython-input-53-9cb7e5e3d24c>\u001b[0m in \u001b[0;36m<module>\u001b[0;34m()\u001b[0m\n\u001b[0;32m----> 1\u001b[0;31m \u001b[0;32mimport\u001b[0m \u001b[0mmatplotlib\u001b[0m\u001b[0;34m.\u001b[0m\u001b[0mpyplot\u001b[0m \u001b[0;32mas\u001b[0m \u001b[0mplt\u001b[0m\u001b[0;34m\u001b[0m\u001b[0m\n\u001b[0m\u001b[1;32m      2\u001b[0m \u001b[0;34m\u001b[0m\u001b[0m\n\u001b[1;32m      3\u001b[0m \u001b[0mhistory_dict\u001b[0m \u001b[0;34m=\u001b[0m \u001b[0mhistory\u001b[0m\u001b[0;34m.\u001b[0m\u001b[0mhistory\u001b[0m\u001b[0;34m\u001b[0m\u001b[0m\n\u001b[1;32m      4\u001b[0m \u001b[0mloss_values\u001b[0m \u001b[0;34m=\u001b[0m \u001b[0mhistory_dict\u001b[0m\u001b[0;34m[\u001b[0m\u001b[0;34m'loss'\u001b[0m\u001b[0;34m]\u001b[0m\u001b[0;34m\u001b[0m\u001b[0m\n\u001b[1;32m      5\u001b[0m \u001b[0mval_loss_values\u001b[0m \u001b[0;34m=\u001b[0m \u001b[0mhistory_dict\u001b[0m\u001b[0;34m[\u001b[0m\u001b[0;34m'val_loss'\u001b[0m\u001b[0;34m]\u001b[0m\u001b[0;34m\u001b[0m\u001b[0m\n",
      "\u001b[0;31mModuleNotFoundError\u001b[0m: No module named 'matplotlib'"
     ]
    }
   ],
   "source": [
    "import matplotlib.pyplot as plt\n",
    "\n",
    "history_dict = history.history\n",
    "loss_values = history_dict['loss']\n",
    "val_loss_values = history_dict['val_loss']\n",
    "\n",
    "epochs = range(1, len(acc) + 1)\n",
    "\n",
    "plt.plot(epochs, loss_values, 'bo', label='Training loss') # `bo` == blue dot\n",
    "plt.plot(epochs, val_loss_values, 'b', label='Validation loss') # `b` == blue line\n",
    "plt.title('Training and validation loss')\n",
    "plt.xlabel('Epochs')\n",
    "plt.ylabel('Loss')\n",
    "plt.legend()\n",
    "\n",
    "plt.show()"
   ]
  }
 ],
 "metadata": {
  "kernelspec": {
   "display_name": "Python 3",
   "language": "python",
   "name": "python3"
  },
  "language_info": {
   "codemirror_mode": {
    "name": "ipython",
    "version": 3
   },
   "file_extension": ".py",
   "mimetype": "text/x-python",
   "name": "python",
   "nbconvert_exporter": "python",
   "pygments_lexer": "ipython3",
   "version": "3.6.6"
  }
 },
 "nbformat": 4,
 "nbformat_minor": 2
}
